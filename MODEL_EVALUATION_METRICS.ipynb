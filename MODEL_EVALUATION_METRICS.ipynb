{
  "nbformat": 4,
  "nbformat_minor": 0,
  "metadata": {
    "colab": {
      "provenance": [],
      "authorship_tag": "ABX9TyPia4ptTlVg/lc5MayEw974",
      "include_colab_link": true
    },
    "kernelspec": {
      "name": "python3",
      "display_name": "Python 3"
    },
    "language_info": {
      "name": "python"
    }
  },
  "cells": [
    {
      "cell_type": "markdown",
      "metadata": {
        "id": "view-in-github",
        "colab_type": "text"
      },
      "source": [
        "<a href=\"https://colab.research.google.com/github/mithun-martin/MACHINE-LEARNING/blob/main/MODEL_EVALUATION_METRICS.ipynb\" target=\"_parent\"><img src=\"https://colab.research.google.com/assets/colab-badge.svg\" alt=\"Open In Colab\"/></a>"
      ]
    },
    {
      "cell_type": "code",
      "execution_count": 1,
      "metadata": {
        "colab": {
          "base_uri": "https://localhost:8080/"
        },
        "id": "Ta_2ZTZqUHtS",
        "outputId": "e19272b7-da65-4a6f-e480-b7acbb227c11"
      },
      "outputs": [
        {
          "output_type": "stream",
          "name": "stdout",
          "text": [
            "Confusion Matrix:\n",
            " [[4 1]\n",
            " [1 4]]\n",
            "Accuracy: 0.8\n",
            "Precision: 0.8\n",
            "Recall: 0.8\n",
            "F1 Score: 0.8\n"
          ]
        }
      ],
      "source": [
        "from sklearn.metrics import confusion_matrix, accuracy_score, precision_score, recall_score, f1_score\n",
        "\n",
        "# Sample actual and predicted values\n",
        "y_true = [1, 0, 1, 0, 1, 0, 1, 0, 1, 0]  # actual labels\n",
        "y_pred = [1, 0, 1, 0, 0, 1, 1, 0, 1, 0]  # predicted labels\n",
        "\n",
        "# 📊 Confusion Matrix\n",
        "print(\"Confusion Matrix:\\n\", confusion_matrix(y_true, y_pred))\n",
        "\n",
        "# ✅ Accuracy\n",
        "print(\"Accuracy:\", accuracy_score(y_true, y_pred))\n",
        "\n",
        "# 🎯 Precision\n",
        "print(\"Precision:\", precision_score(y_true, y_pred))\n",
        "\n",
        "# 📈 Recall\n",
        "print(\"Recall:\", recall_score(y_true, y_pred))\n",
        "\n",
        "# 🔄 F1 Score\n",
        "print(\"F1 Score:\", f1_score(y_true, y_pred))\n"
      ]
    },
    {
      "cell_type": "code",
      "source": [],
      "metadata": {
        "id": "bgqyHS2iUgLj"
      },
      "execution_count": null,
      "outputs": []
    }
  ]
}