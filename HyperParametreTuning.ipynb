{
  "nbformat": 4,
  "nbformat_minor": 0,
  "metadata": {
    "colab": {
      "provenance": [],
      "authorship_tag": "ABX9TyNzWwRlk4C24LD+OC2XVoya",
      "include_colab_link": true
    },
    "kernelspec": {
      "name": "python3",
      "display_name": "Python 3"
    },
    "language_info": {
      "name": "python"
    }
  },
  "cells": [
    {
      "cell_type": "markdown",
      "metadata": {
        "id": "view-in-github",
        "colab_type": "text"
      },
      "source": [
        "<a href=\"https://colab.research.google.com/github/mithun-martin/MACHINE-LEARNING/blob/main/HyperParametreTuning.ipynb\" target=\"_parent\"><img src=\"https://colab.research.google.com/assets/colab-badge.svg\" alt=\"Open In Colab\"/></a>"
      ]
    },
    {
      "cell_type": "code",
      "execution_count": 2,
      "metadata": {
        "colab": {
          "base_uri": "https://localhost:8080/"
        },
        "id": "2_pFioc8tEJi",
        "outputId": "b3c7938e-66cd-49cc-9753-5eb2ca5c29f8"
      },
      "outputs": [
        {
          "output_type": "stream",
          "name": "stdout",
          "text": [
            "Best Parameters: {'max_depth': None, 'min_samples_split': 2, 'n_estimators': 50}\n",
            "Accuracy: 1.0\n",
            "Precision: 1.0\n",
            "Recall: 1.0\n"
          ]
        }
      ],
      "source": [
        "from sklearn.datasets import load_iris\n",
        "from sklearn.model_selection import train_test_split, GridSearchCV\n",
        "from sklearn.ensemble import RandomForestClassifier\n",
        "from sklearn.metrics import accuracy_score, precision_score, recall_score\n",
        "\n",
        "data = load_iris()\n",
        "X, y = data.data, data.target\n",
        "\n",
        "\n",
        "X_train, X_test, y_train, y_test = train_test_split(\n",
        "    X, y, test_size=0.2, random_state=42\n",
        ")\n",
        "\n",
        "\n",
        "rf = RandomForestClassifier(random_state=42)\n",
        "\n",
        "#Parameter Grid (Tuning 3 parameters)\n",
        "param_grid = {\n",
        "    'n_estimators': [50, 100, 150], #The number of decision trees in the random forest.\n",
        "    'max_depth': [None, 5, 10],\n",
        "    'min_samples_split': [2, 4, 6]\n",
        "\n",
        "\n",
        "# Minimum number of samples required to split a node in the tree.\n",
        "# Lower value (2) → tree can split even with very few samples → more complex model, higher chance of overfitting.\n",
        "# Higher value (6) → requires more samples to split → simpler model, less overfitting.\n",
        "}\n",
        "\n",
        "# Step 6: Grid Search\n",
        "grid_search = GridSearchCV(rf, param_grid, cv=3, scoring='accuracy')\n",
        "\n",
        "# This is 3-fold cross-validation:\n",
        "# The training data is split into 3 equal parts.\n",
        "# The model is trained on 2 parts and tested on the remaining part.\n",
        "# This is repeated 3 times, each time with a different part as the test set.\n",
        "#The metric we want to maximize when choosing the best parameters.\n",
        "\n",
        "\n",
        "\n",
        "grid_search.fit(X_train, y_train)\n",
        "\n",
        "print(\"Best Parameters:\", grid_search.best_params_)\n",
        "\n",
        "\n",
        "best_rf = grid_search.best_estimator_\n",
        "y_pred = best_rf.predict(X_test)\n",
        "\n",
        "\n",
        "accuracy = accuracy_score(y_test, y_pred)\n",
        "\n",
        "\n",
        "print(\"Accuracy:\", accuracy)\n",
        "\n"
      ]
    },
    {
      "cell_type": "code",
      "source": [
        "from sklearn.datasets import load_iris\n",
        "from sklearn.model_selection import train_test_split\n",
        "from sklearn.ensemble import RandomForestClassifier\n",
        "from sklearn.metrics import accuracy_score, precision_score, recall_score\n",
        "import pandas as pd\n",
        "\n",
        "# Load data\n",
        "data = load_iris()\n",
        "X, y = data.data, data.target\n",
        "\n",
        "# Train/test split (use stratify to keep class balance)\n",
        "X_train, X_test, y_train, y_test = train_test_split(\n",
        "    X, y, test_size=0.2, random_state=42, stratify=y\n",
        ")\n",
        "\n",
        "# We'll try 3 different hyperparameter sets (your mam asked for 3 runs)\n",
        "param_sets = [\n",
        "    {'n_estimators': 50,  'max_depth': None, 'min_samples_split': 2},\n",
        "    {'n_estimators': 100, 'max_depth': 5,    'min_samples_split': 4},\n",
        "    {'n_estimators': 150, 'max_depth': 15,   'min_samples_split': 12},\n",
        "]\n",
        "\n",
        "results = []\n",
        "\n",
        "for i, params in enumerate(param_sets, start=1):\n",
        "    print(f\"\\n--- Run {i}: params = {params} ---\") #So i is the run number and params is the dictionary like {'n_estimators':50, ...}.\n",
        "\n",
        "    rf = RandomForestClassifier(\n",
        "        n_estimators=params['n_estimators'],\n",
        "        max_depth=params['max_depth'],\n",
        "        min_samples_split=params['min_samples_split'],\n",
        "        random_state=42\n",
        "    )\n",
        "    rf.fit(X_train, y_train)\n",
        "    y_pred = rf.predict(X_test)\n",
        "\n",
        "    acc = accuracy_score(y_test, y_pred)\n",
        "\n",
        "\n",
        "    print(f\"Accuracy:  {acc:.4f}\")\n",
        "\n",
        "    results.append({\n",
        "        'run': i,\n",
        "        'n_estimators': params['n_estimators'],\n",
        "        'max_depth': str(params['max_depth']),\n",
        "        'min_samples_split': params['min_samples_split'],\n",
        "        'accuracy': acc,\n",
        "\n",
        "    })\n",
        "\n"
      ],
      "metadata": {
        "colab": {
          "base_uri": "https://localhost:8080/"
        },
        "id": "xlWJvy88x2Yf",
        "outputId": "9a67cfdb-3b2c-452d-c631-b0411768cdf2"
      },
      "execution_count": 10,
      "outputs": [
        {
          "output_type": "stream",
          "name": "stdout",
          "text": [
            "\n",
            "--- Run 1: params = {'n_estimators': 50, 'max_depth': None, 'min_samples_split': 2} ---\n",
            "Accuracy:  0.9000\n",
            "\n",
            "--- Run 2: params = {'n_estimators': 100, 'max_depth': 5, 'min_samples_split': 4} ---\n",
            "Accuracy:  0.9667\n",
            "\n",
            "--- Run 3: params = {'n_estimators': 150, 'max_depth': 15, 'min_samples_split': 12} ---\n",
            "Accuracy:  0.9667\n"
          ]
        }
      ]
    },
    {
      "cell_type": "code",
      "source": [],
      "metadata": {
        "id": "LbEMvDgp0Fl6"
      },
      "execution_count": null,
      "outputs": []
    }
  ]
}